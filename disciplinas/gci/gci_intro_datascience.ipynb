{
 "cells": [
  {
   "cell_type": "markdown",
   "metadata": {},
   "source": [
    "# Gestão do Conhecimento e da Informação\n",
    "## Curso Relâmpago de Python\n",
    "\n",
    "### Professor Rafael Escalfoni\n",
    "\n",
    "## Python\n",
    "\n",
    "Discutiremos algumas características fundamentais de Python para que você consiga entender os códigos que serão passados neste curso. Para aprender e se aprofundar em Python, recomendo visitar a comunidade https://www.python.org, além de buscar cursos de formação, como os do Coursera.\n",
    "\n",
    "### Formatação de Espaço em Branco\n",
    "\n",
    "Diferente de outras linguagens, que sinalizam com chaves ou com palavras reservadas \"begin\" e \"end\", por exemplo, os blocos de comando em Python são delimitados por indentação.\n",
    "\n",
    "Exemplo:"
   ]
  },
  {
   "cell_type": "code",
   "execution_count": 1,
   "metadata": {},
   "outputs": [
    {
     "name": "stdout",
     "output_type": "stream",
     "text": [
      "1\n",
      "1\n",
      "2\n",
      "2\n",
      "3\n",
      "3\n",
      "4\n",
      "4\n",
      "5\n",
      "5\n",
      "6\n",
      "1\n",
      "2\n",
      "1\n",
      "3\n",
      "2\n",
      "4\n",
      "3\n",
      "5\n",
      "4\n",
      "6\n",
      "5\n",
      "7\n",
      "2\n",
      "3\n",
      "1\n",
      "4\n",
      "2\n",
      "5\n",
      "3\n",
      "6\n",
      "4\n",
      "7\n",
      "5\n",
      "8\n",
      "3\n",
      "4\n",
      "1\n",
      "5\n",
      "2\n",
      "6\n",
      "3\n",
      "7\n",
      "4\n",
      "8\n",
      "5\n",
      "9\n",
      "4\n",
      "5\n",
      "1\n",
      "6\n",
      "2\n",
      "7\n",
      "3\n",
      "8\n",
      "4\n",
      "9\n",
      "5\n",
      "10\n",
      "5\n",
      "acabou o looping\n"
     ]
    }
   ],
   "source": [
    "for i in [1, 2, 3, 4, 5]:\n",
    "    print(i)                    # primeira linha para o bloco 'for i'\n",
    "    for j in [1, 2, 3, 4, 5]:   \n",
    "        print(j)                # primeira linha para o bloco 'for j'\n",
    "        print(i+j)              # última linha para o bloco 'for j'\n",
    "    print(i)                    # última linha para o bloco 'for i'\n",
    "print(\"acabou o looping\")"
   ]
  },
  {
   "cell_type": "markdown",
   "metadata": {},
   "source": [
    "A ideia foi tornar o código Python simples e legível. O espaço em branco é ignorado dentro dos parênteses e colchetes, o que pode ser muito útil em computações intermináveis: "
   ]
  },
  {
   "cell_type": "code",
   "execution_count": null,
   "metadata": {},
   "outputs": [],
   "source": [
    "lista_de_listas = [[1,2,3], [4,5,6],[7,8,9]]\n",
    "\n",
    "lista_mais_facil_de_ler = [ [1,2,3],\n",
    "                            [4,5,6],\n",
    "                            [7,8,9] ]"
   ]
  },
  {
   "cell_type": "markdown",
   "metadata": {},
   "source": [
    "### Módulos\n",
    "\n",
    "Alguns recursos do Python precisam ser explicitamente carregados para que você possa usar. São recursos de terceiros ou outros elementos que pesariam demais se fossem carregados por padrão. Para importar um módulo, use a palavra *import*"
   ]
  },
  {
   "cell_type": "code",
   "execution_count": null,
   "metadata": {},
   "outputs": [],
   "source": [
    "import re # para trabalhar com expressões regulares, por exemplo\n",
    "\n",
    "# definindo um apelido (alias)\n",
    "import matplotlib.pyplot as plt\n",
    "\n",
    "# importando alguns recursos de uma biblioteca grande:\n",
    "from collections import defaultdict, Counter"
   ]
  },
  {
   "cell_type": "markdown",
   "metadata": {},
   "source": [
    "### Funções\n",
    "\n",
    "Definimos funções em Python usando a palavra reservada def"
   ]
  },
  {
   "cell_type": "code",
   "execution_count": 59,
   "metadata": {},
   "outputs": [],
   "source": [
    "def double(x):\n",
    "    return x * 2"
   ]
  },
  {
   "cell_type": "markdown",
   "metadata": {},
   "source": [
    "Assim como em JavaScript, em Python, as funções são de **primeira classe**, ou seja, podemos atribuí-las a variáveis e passá-las para funções como argumentos:"
   ]
  },
  {
   "cell_type": "code",
   "execution_count": 60,
   "metadata": {},
   "outputs": [],
   "source": [
    "def apply_to_one(f):\n",
    "    return f(1)\n",
    "\n",
    "my_double = double            # my_double receberá a função criada acima\n",
    "x = apply_to_one(my_double)   # é igual a 2"
   ]
  },
  {
   "cell_type": "markdown",
   "metadata": {},
   "source": [
    "Também podemos criar pequenas funções anônimas  (lambdas):\n",
    "    "
   ]
  },
  {
   "cell_type": "code",
   "execution_count": 61,
   "metadata": {},
   "outputs": [],
   "source": [
    "y = apply_to_one(lambda x: x + 4)   # é igual a 5"
   ]
  },
  {
   "cell_type": "markdown",
   "metadata": {},
   "source": [
    "### Coleções\n",
    "\n",
    "#### Listas\n",
    "São estruturas de dados básicas em Python. É uma coleção ordenada (como array em Javascript)\n",
    "\n",
    "#### Tuplas\n",
    "Já as tuplas são coleções imutáveis. Tuplas usam parênteses no lugar dos colchetes das listas.\n",
    "\n",
    "#### Dicionários\n",
    "São estruturas que associam valores com chaves.\n",
    "\n",
    "#### Conjuntos \n",
    "São estruturas de dados que não permitem valores repetidos (sets)\n"
   ]
  },
  {
   "cell_type": "code",
   "execution_count": 65,
   "metadata": {},
   "outputs": [
    {
     "name": "stdout",
     "output_type": "stream",
     "text": [
      "[1, 2, 3, 4]\n",
      "[1, 2, 3, 4]\n",
      "[0, 2, 4]\n",
      "[0, 1, 4, 9, 16]\n",
      "[0, 4, 16]\n"
     ]
    }
   ],
   "source": [
    "#######\n",
    "## Exemplo de listas\n",
    "#######\n",
    "lista_inteiros = [1,2,3]\n",
    "lista_valores_heterogeneos = ['uma string', 0.1, True]\n",
    "lista_de_listas = [lista_inteiros, lista_valores_heterogeneos, []]\n",
    "\n",
    "tamanho_da_lista = len(lista_inteiros) # retorna 3\n",
    "soma_valores = sum(lista_inteiros) # retorna 6\n",
    "\n",
    "# configurar lista com n elementos:\n",
    "\n",
    "x = range(10) # cria uma lista [0, 1, 2, ..., 9]\n",
    "zero = x[0] # retorna 0; indice de 0 a n-1\n",
    "\n",
    "#repartindo a lista\n",
    "tres_primeiros = x[:3]\n",
    "tres_em_diante = x[3:]\n",
    "um_ate_5 = x[1:5]\n",
    "tres_ultimos = x[-3:]\n",
    "sem_primeiro_e_sem_ultimo = x[1:-1]\n",
    "copia_de_x = x[:]\n",
    "\n",
    "\n",
    "a, b = [1,2] # a = 1 e b = 2\n",
    "\n",
    "_, d = [3, 4] # primeiro valor é ignorado e d = 4\n",
    "\n",
    "#ordenando uma lista\n",
    "x = [4, 1, 2, 3]\n",
    "y = sorted(x) \n",
    "print(y)\n",
    "x.sort()\n",
    "print(x)\n",
    "\n",
    "#operações em listas\n",
    "numeros_pares = [a for a in range(5) if a % 2 == 0]\n",
    "print(numeros_pares)\n",
    "quadrados = [a * a for a in range(5)]\n",
    "print(quadrados)\n",
    "pares_quadrados = [a ** 2 for a in numeros_pares]\n",
    "print(pares_quadrados)\n",
    "\n",
    "\n"
   ]
  },
  {
   "cell_type": "code",
   "execution_count": 67,
   "metadata": {},
   "outputs": [
    {
     "name": "stdout",
     "output_type": "stream",
     "text": [
      "1\n",
      "2\n"
     ]
    }
   ],
   "source": [
    "#######\n",
    "## Exemplo de tuplas\n",
    "#######\n",
    "\n",
    "minha_tupla = (1, 2)\n",
    "outra_tupla = 3, 4\n",
    "\n",
    "# retornando várias saidas a partir de uma função\n",
    "\n",
    "def soma_e_produto(x, y):\n",
    "    return (x + y), (x * y)\n",
    "\n",
    "#atribuições a partir de tuplas\n",
    "\n",
    "a, b = 1, 2 # a = 1 e b = 2\n",
    "\n",
    "print(a)\n",
    "print(b)"
   ]
  },
  {
   "cell_type": "code",
   "execution_count": 68,
   "metadata": {},
   "outputs": [],
   "source": [
    "#######\n",
    "## Exemplo de Dicionários\n",
    "#######\n",
    "\n",
    "dicionario_vazio = {}\n",
    "dicionario_vazio2 = dict()\n",
    "notas = {\"Ana\": 80, \"Maria\":100, \"Paulo\": 75}\n",
    "\n",
    "nota_de_ana = notas[\"Ana\"]\n",
    "\n",
    "jose_tem_nota = \"Jose\" in notas #False\n",
    "maria_tem_nota = \"Maria\" in notas #True\n",
    "\n",
    "nota_de_maria = notas.get(\"Maria\", 0) # se não encontrar o valor, atribui 0\n",
    "\n"
   ]
  },
  {
   "cell_type": "code",
   "execution_count": 69,
   "metadata": {},
   "outputs": [],
   "source": [
    "#######\n",
    "## Exemplo de Conjuntos\n",
    "#######\n",
    "conjunto = set()\n",
    "conjunto.add(1) # agora é { 1 }\n",
    "conjunto.add(2) # agora é { 1 , 2}\n",
    "conjunto.add(2) # ainda é { 1 , 2}\n",
    "tam = len(conjunto)\n",
    "y = 2 in conjunto\n",
    "z = 3 in conjunto\n",
    "\n",
    "item_list = [1,2,3,1,2,3]\n",
    "num_items = len(item_list)          #  6\n",
    "item_set = set(item_list)           # {1, 2, 3}\n",
    "num_distinct_items = len(item_set)  # 3\n",
    "distinct_item_list = list(item_set) # [1, 2, 3]"
   ]
  },
  {
   "cell_type": "markdown",
   "metadata": {},
   "source": [
    "## Visualização de Dados\n",
    "\n",
    "Parte fundamental do kit de ferramentas do analista de dados é a visualização de dados, que auxilia na exploração e na comunicação dos dados\n",
    "\n",
    "### matplotlib\n",
    "\n",
    "Embora haja uma enorme variedade de tipos de ferramentas para visualização de dados, usaremos uma biblioteca que é altamente utilizada e está consolidada, pois foi criada e vem sendo mantida há vários anos - a matplotlib (http://matplotlib.org/).\n",
    "\n",
    "Especificamente, trataremos do módulo matplotlib.pyplot. O pyplot mantém um estado interno em que você constrói uma visualização passo a passo. Ao terminar, você pode salvá-la (savefig()) ou exibi-la (show()).\n",
    "\n",
    "\n",
    "Um gráfico simples para exibir valores em um eixo. Considere uma série de leituras hipotéticas de pib para as décadas de 1950 até 2010:\n"
   ]
  },
  {
   "cell_type": "code",
   "execution_count": 70,
   "metadata": {},
   "outputs": [
    {
     "data": {
      "image/png": "[encoded data removed]",
      "text/plain": [
       "<Figure size 432x288 with 1 Axes>"
      ]
     },
     "metadata": {
      "needs_background": "light"
     },
     "output_type": "display_data"
    }
   ],
   "source": [
    "from matplotlib import pyplot as plt\n",
    "\n",
    "decadas = [1950, 1960, 1970, 1980, 1990, 2000, 2010]\n",
    "pib = [300.2, 543.3, 1075.9, 2862.5, 5979.6, 10289.7, 14958.3]\n",
    "\n",
    "# cria um gráfico de linhas, decadas no eixo x, pib no eixo y\n",
    "\n",
    "plt.plot(decadas, pib, color='green', marker='o', linestyle='solid')\n",
    "\n",
    "# adiciona um título\n",
    "plt.title('PIB Nominal')\n",
    "\n",
    "# adiciona um título no eixo y\n",
    "plt.ylabel('Bilhões de $')\n",
    "\n",
    "plt.show()"
   ]
  },
  {
   "cell_type": "markdown",
   "metadata": {},
   "source": [
    "### Gráfico de Barras\n",
    "\n",
    "Use gráfico de barras para mostrar como algumas quantidades variam entre um conjunte particular de itens. Exemplo: quantas premiações do Oscar cada uma das variedades de filmes ganharam:"
   ]
  },
  {
   "cell_type": "code",
   "execution_count": null,
   "metadata": {},
   "outputs": [],
   "source": [
    "filmes = [\"Annie Hall\", \"Ben-Hur\", \"Casablanca\", \"Gandhi\", \"West Side Story\"]\n",
    "\n",
    "num_oscars = [5, 11, 3, 8, 10]\n",
    "\n",
    "# barras possuem o tamanho padrão de 0.8, então adicionaremos 0.1 as\n",
    "# coordenadas à esquerda para que cada barra seja centralizada\n",
    "\n",
    "xs = [i + 0.1 for i, _ in enumerate(filmes)]\n",
    "\n",
    "# as barras do gráfico com as coordenadas x à esquerda [xs], as alturas [num_oscars]\n",
    "plt.bar(xs, num_oscars)\n",
    "\n",
    "plt.ylabel(\"# de Premiações\")\n",
    "plt.title(\"Meus filmes favoritos\")\n",
    "\n",
    "# nomeia o eixo x com o nome dos filmes na barra central\n",
    "plt.xticks([i + 0.1 for i, _ in enumerate(filmes)], filmes)\n",
    "\n",
    "plt.show()"
   ]
  },
  {
   "cell_type": "markdown",
   "metadata": {},
   "source": [
    "### Criando Histogramas:\n",
    "\n",
    "Considere agora um conjunto de leituras de notas de alunos. Gostaríamos de ver a frequência das notas, agrupadas pelas dezenas: de 0 a 9, de 10 a 19, de 20 a 29 ..., de 90 a 100."
   ]
  },
  {
   "cell_type": "code",
   "execution_count": 22,
   "metadata": {},
   "outputs": [
    {
     "data": {
      "image/png": "[encoded data removed]",
      "text/plain": [
       "<Figure size 432x288 with 1 Axes>"
      ]
     },
     "metadata": {
      "needs_background": "light"
     },
     "output_type": "display_data"
    }
   ],
   "source": [
    "from __future__ import division\n",
    "from collections import Counter\n",
    "\n",
    "\n",
    "notas = [83, 95, 91, 87, 70, 0, 85, 82, 100, 67, 73, 77, 0]\n",
    "\n",
    "grupos = lambda nota: nota // 10 * 10\n",
    "\n",
    "histograma = Counter(grupos(nota) for nota in notas)\n",
    "\n",
    "plt.bar([x for x in histograma.keys()],          #  \n",
    "        histograma.values(),                     # dá para cada barra sua altura correspondente\n",
    "        8)                                       # dá para cada barra a largura de 8\n",
    "        \n",
    "plt.axis( [-5, 105, 0, 5])                       # eixo x de -5 até 105\n",
    "                                                 # eixo y de 0 até 5\n",
    "\n",
    "plt.xticks([10 * i for i in range(11)])          # rótulos do eixo x em 0, 10, ..., 100\n",
    "plt.xlabel(\"Notas\")\n",
    "plt.ylabel(\"# de alunos\")\n",
    "plt.title(\"Distribuição das Notas do Teste 1\")\n",
    "\n",
    "plt.show()\n"
   ]
  },
  {
   "cell_type": "markdown",
   "metadata": {},
   "source": [
    "## Gráficos de Linhas\n",
    " \n",
    "Use gráficos de linhas para mostrar tendências de dados.\n",
    "\n",
    "Considere a variância e polarização abaixo:\n"
   ]
  },
  {
   "cell_type": "code",
   "execution_count": 23,
   "metadata": {},
   "outputs": [
    {
     "data": {
      "image/png": "[encoded data removed]",
      "text/plain": [
       "<Figure size 432x288 with 1 Axes>"
      ]
     },
     "metadata": {
      "needs_background": "light"
     },
     "output_type": "display_data"
    }
   ],
   "source": [
    "varianca = [1, 2, 4, 8, 16, 32, 64, 128, 256]\n",
    "dp = [256, 128, 64, 32, 16, 8, 4, 2, 1]\n",
    "erro_total = [x + y for x, y in zip(varianca, dp)]\n",
    "\n",
    "xs = [i for i, _ in enumerate(varianca)]\n",
    "\n",
    "# podemos fazer múltiplas chamadas para plt.plot\n",
    "# para mostrar múltiplas séries no mesmo gráfico\n",
    "\n",
    "plt.plot(xs, varianca, 'g-', label= 'Variância')     # linha verde sólida g-\n",
    "plt.plot(xs, dp, 'r-.', label='Polarização^2')       # linha de ponto tracejado vermelhoo r-.\n",
    "plt.plot(xs, erro_total, 'b:', label='Erro total')   # linha com pontilhado azul\n",
    "\n",
    "# Como temos rótulos definidos para cada série\n",
    "# temos que pôr uma legenda\n",
    "# loc=9 significa localização topo, centralizado\n",
    "plt.legend(loc=9)\n",
    "plt.xlabel(\"complexidade do modelo\")\n",
    "plt.title(\"Compromisso entre polarização e variância\")\n",
    "plt.show()"
   ]
  },
  {
   "cell_type": "markdown",
   "metadata": {},
   "source": [
    "## Gráfico de dispersão\n",
    "\n",
    "Use para visualizar o relacionamento entre dois pares de conjuntos de dados quantitativos. O exemplo abaixo ilustra o número de amigos que seus usuários têm e o número de minutos que eles passam na rede social.\n"
   ]
  },
  {
   "cell_type": "code",
   "execution_count": 25,
   "metadata": {},
   "outputs": [
    {
     "data": {
      "image/png": "[encoded data removed]",
      "text/plain": [
       "<Figure size 432x288 with 1 Axes>"
      ]
     },
     "metadata": {
      "needs_background": "light"
     },
     "output_type": "display_data"
    }
   ],
   "source": [
    "amigos = [ 70, 65, 72, 63, 71, 64, 60, 64, 67]\n",
    "minutos = [175, 170, 205, 120, 220, 130, 105, 145, 190]\n",
    "labels = ['a', 'b', 'c', 'd', 'e', 'f','g','h','i']\n",
    "\n",
    "plt.scatter(amigos, minutos)\n",
    "\n",
    "# nomeia cada posicao\n",
    "for label, amigo_num, minuto_num in zip(labels, amigos, minutos):\n",
    "    plt.annotate(label,\n",
    "                xy=(amigo_num, minuto_num),    # coloca o rótulo na posicao\n",
    "                xytext=(5, -5),               # compensa a posicao\n",
    "                textcoords='offset points')\n",
    "    \n",
    "plt.title(\"Minutos diários vs Número de amigos\")\n",
    "plt.xlabel(\"# de amigos\")\n",
    "plt.ylabel(\"Mins diários na rede social\")\n",
    "plt.show()"
   ]
  },
  {
   "cell_type": "markdown",
   "metadata": {},
   "source": [
    "## Tendências Centrais\n",
    "\n",
    "Normalmente queremos ter uma noção de onde nossos dados estão centrados. A média representa o ponto no meio do caminho entre dois pontos. Na medida em que você acrescenta novos pontos, a média se move dependendo do valor de cada ponto."
   ]
  },
  {
   "cell_type": "code",
   "execution_count": 56,
   "metadata": {},
   "outputs": [],
   "source": [
    "from collections import Counter\n",
    "\n",
    "def mean(x):\n",
    "    return sum(x) / len(x)\n",
    "\n",
    "def median(v):\n",
    "    n = len(v)\n",
    "    sorted_v = sorted(v)\n",
    "    midpoint = n // 2\n",
    "    \n",
    "    if n % 2 == 0:\n",
    "        return sorted_v[midpoint]\n",
    "    else:\n",
    "        lo = midpoint - 1\n",
    "        hi = midpoint \n",
    "        return (sorted_v[lo] + sorted_v[hi]) / 2\n",
    "\n",
    "def quantile(x, p):\n",
    "    p_index = int(p * len(x))\n",
    "    return sorted(x)[p_index]\n",
    "\n",
    "def mode(x):\n",
    "    counts = Counter(x)\n",
    "    max_count = max(counts.values())\n",
    "    return [x_i for x_i, count in counts.items()\n",
    "               if count == max_count]\n",
    "\n",
    "#amplitude já existe no Python\n",
    "def data_range(x):\n",
    "    return max(x) - min(x)\n",
    "\n",
    "def de_mean(x):\n",
    "    x_bar = mean(x)\n",
    "    return [x_i - x_bar for x_i in x]\n",
    "\n",
    "def sum_of_squares(x):\n",
    "    soma = 0 \n",
    "    for i in x:\n",
    "        soma = i ** 2\n",
    "    return soma\n",
    "    \n",
    "def variancia(x):\n",
    "    n = len(x)\n",
    "    deviations = de_mean(x)\n",
    "    \n",
    "    return sum_of_squares(deviations) / ( n - 1)\n",
    "\n",
    "def desvio_padrao(x):\n",
    "    return variancia(x)**(1/2)\n"
   ]
  },
  {
   "cell_type": "code",
   "execution_count": 57,
   "metadata": {},
   "outputs": [
    {
     "name": "stdout",
     "output_type": "stream",
     "text": [
      "59.025\n",
      "61\n",
      "41\n",
      "[76, 45, 11]\n",
      "89\n",
      "24.60129807692308\n",
      "4.9599695641125745\n"
     ]
    }
   ],
   "source": [
    "num_amigos = [100, 49, 41, 40, 25, 51, 50, 32, 38, 99, \n",
    "              76, 85, 45, 61, 29, 77, 78, 81, 92, 43, \n",
    "              24, 33, 11, 53, 56, 54, 76, 67, 84, 23, \n",
    "             11, 45, 65, 79, 83, 94, 68, 71, 82, 90]\n",
    "\n",
    "print(mean(num_amigos))\n",
    "print(median(num_amigos))\n",
    "print(quantile(num_amigos, 0.25))\n",
    "print(mode(num_amigos))\n",
    "print(data_range(num_amigos))\n",
    "print(variancia(num_amigos))\n",
    "print(desvio_padrao(num_amigos))"
   ]
  },
  {
   "cell_type": "code",
   "execution_count": null,
   "metadata": {},
   "outputs": [],
   "source": []
  }
 ],
 "metadata": {
  "kernelspec": {
   "display_name": "Python 3",
   "language": "python",
   "name": "python3"
  },
  "language_info": {
   "codemirror_mode": {
    "name": "ipython",
    "version": 3
   },
   "file_extension": ".py",
   "mimetype": "text/x-python",
   "name": "python",
   "nbconvert_exporter": "python",
   "pygments_lexer": "ipython3",
   "version": "3.7.6"
  }
 },
 "nbformat": 4,
 "nbformat_minor": 4
}
